{
 "cells": [
  {
   "cell_type": "code",
   "execution_count": 2,
   "metadata": {},
   "outputs": [
    {
     "name": "stdout",
     "output_type": "stream",
     "text": [
      "Helo World\n"
     ]
    }
   ],
   "source": [
    "print('Helo World');"
   ]
  },
  {
   "cell_type": "code",
   "execution_count": 5,
   "metadata": {},
   "outputs": [
    {
     "name": "stdout",
     "output_type": "stream",
     "text": [
      "Enter any question : 12\n",
      "I am grester then 3\n",
      "12\n"
     ]
    }
   ],
   "source": [
    "Question = int(input('Enter any question : '))\n",
    "if question > 3:\n",
    "    print('I am greater then 3')\n",
    "    print(question)\n",
    "    \n",
    "else:\n",
    "    print('I am less then 3')\n",
    "    print(question)"
   ]
  },
  {
   "cell_type": "code",
   "execution_count": null,
   "metadata": {},
   "outputs": [],
   "source": [
    "##f = open(\"demofile.txt\",\"a\")\n",
    "##k = input('Enter data to be entered')\n",
    "##f.write(k)\n",
    "##f.close()\n",
    "\n",
    "\n",
    "\n",
    "##f = open(\"demofile.txt\", \"r\")\n",
    "##print(f.read())"
   ]
  },
  {
   "cell_type": "code",
   "execution_count": 56,
   "metadata": {},
   "outputs": [
    {
     "name": "stdout",
     "output_type": "stream",
     "text": [
      "Enter yes of nosdf\n",
      "List of goods is\n",
      "mango 12\n",
      "chicku 120\n",
      "geo\t12\n",
      "ary\t13\n",
      "ali\t123\n",
      "aqib\tpride of pakistan\n"
     ]
    }
   ],
   "source": [
    "\n",
    "word_list= []\n",
    "\n",
    "#iterate 4 times\n",
    "var = input('Enter yes of no')\n",
    "if var == 'yes':\n",
    "    for i in range(1,3):\n",
    "        print('Enter items Name  :')\n",
    "        line = input() #take input\n",
    "        print('Enter price of item in integer')\n",
    "        price = input()\n",
    "        word_list.extend(line)\n",
    "        price_list.append(price)#append to the list\n",
    "        f = open('demofile.txt', 'a')\n",
    "        f.write(\"\\n\"+line+\"\\t\"+price)\n",
    "        f.close()\n",
    "else:\n",
    "    print('List of goods is')    \n",
    "    \n",
    "\n",
    "\n",
    "\n",
    "\n",
    "f = open('demofile.txt','r')\n",
    "print(f.read())  \n",
    "f.close()"
   ]
  },
  {
   "cell_type": "markdown",
   "metadata": {},
   "source": []
  }
 ],
 "metadata": {
  "kernelspec": {
   "display_name": "Python 3",
   "language": "python",
   "name": "python3"
  },
  "language_info": {
   "codemirror_mode": {
    "name": "ipython",
    "version": 3
   },
   "file_extension": ".py",
   "mimetype": "text/x-python",
   "name": "python",
   "nbconvert_exporter": "python",
   "pygments_lexer": "ipython3",
   "version": "3.7.3"
  }
 },
 "nbformat": 4,
 "nbformat_minor": 2
}
