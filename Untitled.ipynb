{
 "cells": [
  {
   "cell_type": "code",
   "execution_count": 2,
   "metadata": {},
   "outputs": [
    {
     "name": "stdout",
     "output_type": "stream",
     "text": [
      "Helo World\n"
     ]
    }
   ],
   "source": [
    "print('Helo World');"
   ]
  },
  {
   "cell_type": "code",
   "execution_count": 5,
   "metadata": {},
   "outputs": [
    {
     "name": "stdout",
     "output_type": "stream",
     "text": [
      "Enter any question : 12\n",
      "I am grester then 3\n",
      "12\n"
     ]
    }
   ],
   "source": [
    "Question = int(input('Enter any question : '))\n",
    "if question > 3:\n",
    "    print('I am greater then 3')\n",
    "    print(question)\n",
    "    \n",
    "else:\n",
    "    print('I am less then 3')\n",
    "    print(question)"
   ]
  },
  {
   "cell_type": "code",
   "execution_count": null,
   "metadata": {},
   "outputs": [],
   "source": [
    "##f = open(\"demofile.txt\",\"a\")\n",
    "##k = input('Enter data to be entered')\n",
    "##f.write(k)\n",
    "##f.close()\n",
    "\n",
    "\n",
    "\n",
    "##f = open(\"demofile.txt\", \"r\")\n",
    "##print(f.read())"
   ]
  },
  {
   "cell_type": "code",
   "execution_count": 4,
   "metadata": {},
   "outputs": [
    {
     "name": "stdout",
     "output_type": "stream",
     "text": [
      "Enter yes of noyes\n",
      "Enter items Name  :\n",
      "mango\n",
      "Enter price of item in integer\n",
      "120\n",
      "Enter items Name  :\n",
      "apple\n",
      "Enter price of item in integer\n",
      "90\n",
      "\n",
      "mango\t120\n",
      "apple\t90\n"
     ]
    }
   ],
   "source": [
    "\n",
    "word_list= []\n",
    "price_list= []\n",
    "\n",
    "#iterate 4 times\n",
    "var = input('Enter yes of no')\n",
    "if var == 'yes':\n",
    "    for i in range(1,3):\n",
    "        print('Enter items Name  :')\n",
    "        line = input() #take input\n",
    "        print('Enter price of item in integer')\n",
    "        price = input()\n",
    "        word_list.extend(line)\n",
    "        price_list.append(price)#append to the list\n",
    "        f = open('demofile.txt', 'a')\n",
    "        f.write(\"\\n\"+line+\"\\t\"+price)\n",
    "        f.close()\n",
    "else:\n",
    "    print('List of goods is')    \n",
    "    \n",
    "\n",
    "\n",
    "\n",
    "\n",
    "f = open('demofile.txt','r')\n",
    "print(f.read())  \n",
    "f.close()"
   ]
  },
  {
   "cell_type": "markdown",
   "metadata": {},
   "source": []
  },
  {
   "cell_type": "markdown",
   "metadata": {},
   "source": [
    "# TUPLE"
   ]
  },
  {
   "cell_type": "code",
   "execution_count": 76,
   "metadata": {},
   "outputs": [
    {
     "name": "stdout",
     "output_type": "stream",
     "text": [
      "Name : Zehra\n",
      "Name : Fatima\n",
      "Name : Muhammad\n",
      "Name : Ali\n",
      "Name : Hussain\n"
     ]
    }
   ],
   "source": [
    "tuple1 = (\"Zehra\",\"Fatima\",\"Muhammad\",\"Ali\",\"Hussain\");\n",
    "for i in tuple1:\n",
    "    if \"kamran\" in tuple1:\n",
    "        print(\"Zehra is present\")\n",
    "        break;\n",
    "    else:\n",
    "        print(\"Name : \"+i)"
   ]
  },
  {
   "cell_type": "code",
   "execution_count": null,
   "metadata": {},
   "outputs": [],
   "source": [
    "tuple1 = (\"Zehra\",\"Fatima\",\"Muhammad\",\"Ali\",\"Hussain\");\n",
    "print(tuple1[-5:-1])"
   ]
  },
  {
   "cell_type": "code",
   "execution_count": 32,
   "metadata": {},
   "outputs": [
    {
     "name": "stdout",
     "output_type": "stream",
     "text": [
      "('Fatima', 'Muhammad')\n"
     ]
    }
   ],
   "source": [
    "tuple1 = (\"Zehra\",\"Fatima\",\"Muhammad\",\"Ali\",\"Hussain\");\n",
    "print(tuple1[1:3])"
   ]
  },
  {
   "cell_type": "markdown",
   "metadata": {},
   "source": [
    "# DIFFERENCE BETWEEN TUPLE AND LIST"
   ]
  },
  {
   "cell_type": "code",
   "execution_count": 94,
   "metadata": {},
   "outputs": [
    {
     "name": "stdout",
     "output_type": "stream",
     "text": [
      "Mango\n",
      "['Banana', 'Cucumber', 'Potatoes']\n"
     ]
    },
    {
     "ename": "TypeError",
     "evalue": "'tuple' object does not support item assignment",
     "output_type": "error",
     "traceback": [
      "\u001b[1;31m---------------------------------------------------------------------------\u001b[0m",
      "\u001b[1;31mTypeError\u001b[0m                                 Traceback (most recent call last)",
      "\u001b[1;32m<ipython-input-94-81fb9dbddde0>\u001b[0m in \u001b[0;36m<module>\u001b[1;34m\u001b[0m\n\u001b[0;32m      4\u001b[0m \u001b[0mprint\u001b[0m\u001b[1;33m(\u001b[0m\u001b[0ml1\u001b[0m\u001b[1;33m.\u001b[0m\u001b[0mcopy\u001b[0m\u001b[1;33m(\u001b[0m\u001b[1;33m)\u001b[0m\u001b[1;33m)\u001b[0m\u001b[1;33m\u001b[0m\u001b[1;33m\u001b[0m\u001b[0m\n\u001b[0;32m      5\u001b[0m \u001b[0mmylist\u001b[0m \u001b[1;33m=\u001b[0m \u001b[0mtuple\u001b[0m\u001b[1;33m(\u001b[0m\u001b[0ml1\u001b[0m\u001b[1;33m)\u001b[0m\u001b[1;33m\u001b[0m\u001b[1;33m\u001b[0m\u001b[0m\n\u001b[1;32m----> 6\u001b[1;33m \u001b[0mmylist\u001b[0m\u001b[1;33m[\u001b[0m\u001b[1;36m2\u001b[0m\u001b[1;33m]\u001b[0m\u001b[1;33m=\u001b[0m\u001b[1;34m'Aleesha'\u001b[0m\u001b[1;33m;\u001b[0m\u001b[1;33m\u001b[0m\u001b[1;33m\u001b[0m\u001b[0m\n\u001b[0m\u001b[0;32m      7\u001b[0m \u001b[0mprint\u001b[0m\u001b[1;33m(\u001b[0m\u001b[0mmylist\u001b[0m\u001b[1;33m)\u001b[0m\u001b[1;33m\u001b[0m\u001b[1;33m\u001b[0m\u001b[0m\n\u001b[0;32m      8\u001b[0m \u001b[0mprint\u001b[0m\u001b[1;33m(\u001b[0m\u001b[0mtype\u001b[0m\u001b[1;33m(\u001b[0m\u001b[0mmylist\u001b[0m\u001b[1;33m)\u001b[0m\u001b[1;33m)\u001b[0m\u001b[1;33m\u001b[0m\u001b[1;33m\u001b[0m\u001b[0m\n",
      "\u001b[1;31mTypeError\u001b[0m: 'tuple' object does not support item assignment"
     ]
    }
   ],
   "source": [
    "l1 = [\"Mango\", \"Banana\",\"Cucumber\",\"Potatoes\"]\n",
    "\n",
    "print(l1.pop(0))\n",
    "print(l1.copy())\n",
    "mylist = tuple(l1)\n",
    "mylist[2]='Aleesha';\n",
    "print(mylist)\n",
    "print(type(mylist))"
   ]
  },
  {
   "cell_type": "code",
   "execution_count": 2,
   "metadata": {},
   "outputs": [
    {
     "name": "stdout",
     "output_type": "stream",
     "text": [
      "Mango\n",
      "['Banana', 'Cucumber', 'Potatoes']\n",
      "['Banana', 'Cucumber', 'Aleesha']\n",
      "<class 'list'>\n"
     ]
    }
   ],
   "source": [
    "l1 = [\"Mango\", \"Banana\",\"Cucumber\",\"Potatoes\"]\n",
    "\n",
    "print(l1.pop(0))\n",
    "print(l1.copy())\n",
    "mylist = list(l1)\n",
    "mylist[2]='Aleesha';\n",
    "print(mylist)\n",
    "print(type(mylist))"
   ]
  },
  {
   "cell_type": "code",
   "execution_count": 10,
   "metadata": {},
   "outputs": [
    {
     "name": "stdout",
     "output_type": "stream",
     "text": [
      "['Ali', 'Aleesha', 'Adeeba', 'Asad', 'Aaliya', 1, 2, 3, 4, 5]\n"
     ]
    }
   ],
   "source": [
    "list1 = [1,2,3,4,5]\n",
    "list2 = [\"Ali\",\"Aleesha\",\"Adeeba\",\"Asad\",\"Aaliya\"]\n",
    "\n",
    "for i in list1:\n",
    "    list2.append(i)\n",
    "    \n",
    "print(list2)"
   ]
  },
  {
   "cell_type": "code",
   "execution_count": 17,
   "metadata": {},
   "outputs": [
    {
     "name": "stdout",
     "output_type": "stream",
     "text": [
      "None\n",
      "['b', 'c', 'z', 1, 2, 3]\n"
     ]
    }
   ],
   "source": [
    "list1 = [\"z\", \"b\" , \"c\"]\n",
    "list2 = [1, 2, 3]\n",
    "list1.extend(list2)\n",
    "print(list1)\n"
   ]
  },
  {
   "cell_type": "code",
   "execution_count": 5,
   "metadata": {},
   "outputs": [
    {
     "name": "stdout",
     "output_type": "stream",
     "text": [
      "['Aaliya Asad', 'Adeeba Anjum', 'Hamdani Asad', 'Syeda Aleesha', 'Zeeshan Ali']\n"
     ]
    }
   ],
   "source": [
    "list2 = [\"Zeeshan Ali\",\"Syeda Aleesha\",\"Adeeba Anjum\",\"Hamdani Asad\",\"Aaliya Asad\"]\n",
    "list2.sort(reverse=False)\n",
    "print(list2)"
   ]
  },
  {
   "cell_type": "code",
   "execution_count": 5,
   "metadata": {},
   "outputs": [
    {
     "name": "stdout",
     "output_type": "stream",
     "text": [
      "['Syeda', 'Adeeba', 'kamran', 'Zeeshan', 'Hamdani']\n"
     ]
    }
   ],
   "source": [
    "def function(e):\n",
    "    return len(e)\n",
    "\n",
    "list2 = [\"Zeeshan\",\"Syeda\",\"Adeeba\",\"Hamdani\",\"kamran\"]\n",
    "list2.sort(reverse=False,key=function)\n",
    "print(list2)#sorts according to the length of the elements"
   ]
  },
  {
   "cell_type": "code",
   "execution_count": 3,
   "metadata": {},
   "outputs": [
    {
     "name": "stdout",
     "output_type": "stream",
     "text": [
      "F\n",
      "A\n",
      "B\n",
      "E\n",
      "Amir\n",
      "Ali\n",
      "C\n",
      "D\n"
     ]
    }
   ],
   "source": [
    "Alphabets = {\"A\",\"B\",\"C\",\"D\",\"E\",\"F\"}\n",
    "Alphabets.update([\"Ali\",\"Amir\"])\n",
    "for i in Alphabets:\n",
    "    print(i)"
   ]
  },
  {
   "cell_type": "code",
   "execution_count": 19,
   "metadata": {},
   "outputs": [
    {
     "name": "stdout",
     "output_type": "stream",
     "text": [
      "{'banana', 'apple', 'cherry'}\n",
      "Enter naem for discardingcherry\n",
      "{'banana', 'apple'}\n"
     ]
    }
   ],
   "source": [
    "thisset = {'apple', 'banana', 'cherry'}\n",
    "print(thisset)\n",
    "var = input('Enter naem for discarding')\n",
    "thisset.discard(var)\n",
    "print(thisset)"
   ]
  },
  {
   "cell_type": "code",
   "execution_count": 21,
   "metadata": {},
   "outputs": [
    {
     "name": "stdout",
     "output_type": "stream",
     "text": [
      "{1, 2, 3, 'a', 'b', 'c'}\n"
     ]
    }
   ],
   "source": [
    "set1 = {\"a\", \"b\" , \"c\"}\n",
    "set2 = {1, 2, 3}\n",
    "\n",
    "set3 = set1.union(set2)\n",
    "print(set3)"
   ]
  },
  {
   "cell_type": "code",
   "execution_count": 23,
   "metadata": {},
   "outputs": [
    {
     "name": "stdout",
     "output_type": "stream",
     "text": [
      "{'microsoft', 'google', 'cherry', 'banana'}\n"
     ]
    }
   ],
   "source": [
    "x = {\"apple\", \"banana\", \"cherry\"}\n",
    "y = {\"google\", \"microsoft\", \"apple\"}\n",
    "\n",
    "z = x.symmetric_difference(y) \n",
    "\n",
    "print(z)"
   ]
  },
  {
   "cell_type": "markdown",
   "metadata": {},
   "source": [
    "# DICTIONERIES"
   ]
  },
  {
   "cell_type": "code",
   "execution_count": 32,
   "metadata": {},
   "outputs": [
    {
     "ename": "NameError",
     "evalue": "name 'child1' is not defined",
     "output_type": "error",
     "traceback": [
      "\u001b[1;31m---------------------------------------------------------------------------\u001b[0m",
      "\u001b[1;31mNameError\u001b[0m                                 Traceback (most recent call last)",
      "\u001b[1;32m<ipython-input-32-81b968044f3f>\u001b[0m in \u001b[0;36m<module>\u001b[1;34m\u001b[0m\n\u001b[0;32m     14\u001b[0m }\n\u001b[0;32m     15\u001b[0m myfamily = {\n\u001b[1;32m---> 16\u001b[1;33m   \u001b[1;34m\"child1\"\u001b[0m \u001b[1;33m:\u001b[0m \u001b[0mchild1\u001b[0m\u001b[1;33m,\u001b[0m\u001b[1;33m\u001b[0m\u001b[1;33m\u001b[0m\u001b[0m\n\u001b[0m\u001b[0;32m     17\u001b[0m   \u001b[1;34m\"child2\"\u001b[0m \u001b[1;33m:\u001b[0m \u001b[0mchild2\u001b[0m\u001b[1;33m,\u001b[0m\u001b[1;33m\u001b[0m\u001b[1;33m\u001b[0m\u001b[0m\n\u001b[0;32m     18\u001b[0m   \u001b[1;34m\"child3\"\u001b[0m \u001b[1;33m:\u001b[0m \u001b[0mchild3\u001b[0m\u001b[1;33m\u001b[0m\u001b[1;33m\u001b[0m\u001b[0m\n",
      "\u001b[1;31mNameError\u001b[0m: name 'child1' is not defined"
     ]
    }
   ],
   "source": [
    "myfamily = {\n",
    "  \"child1\" : {\n",
    "    \"name\" : \"Emil\",\n",
    "    \"year\" : 2004\n",
    "  },\n",
    "  \"child2\" : {\n",
    "    \"name\" : \"Tobias\",\n",
    "    \"year\" : 2007\n",
    "  },\n",
    "  \"child3\" : {\n",
    "    \"name\" : \"Linus\",\n",
    "    \"year\" : 2011\n",
    "  }\n",
    "}\n",
    "\n",
    "for i in myfamily:\n",
    "    print(i)"
   ]
  },
  {
   "cell_type": "code",
   "execution_count": null,
   "metadata": {},
   "outputs": [],
   "source": []
  }
 ],
 "metadata": {
  "kernelspec": {
   "display_name": "Python 3",
   "language": "python",
   "name": "python3"
  },
  "language_info": {
   "codemirror_mode": {
    "name": "ipython",
    "version": 3
   },
   "file_extension": ".py",
   "mimetype": "text/x-python",
   "name": "python",
   "nbconvert_exporter": "python",
   "pygments_lexer": "ipython3",
   "version": "3.7.3"
  }
 },
 "nbformat": 4,
 "nbformat_minor": 2
}
